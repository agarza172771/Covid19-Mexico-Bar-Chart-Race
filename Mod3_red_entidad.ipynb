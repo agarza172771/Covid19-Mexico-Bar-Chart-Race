{
 "cells": [
  {
   "cell_type": "markdown",
   "metadata": {},
   "source": [
    "### Module 3 Bar Chart Race\n",
    "\n",
    "In this module, we generate the bar race using a Python library. The data from the previous \n",
    "module is taken to create the graph. In this case they are accumulated to date.\n",
    "\n",
    "Note: This exercise is only to show a way to graph using Python and its libraries\n",
    "\n",
    "\n",
    "En este modulo, generamos la carrera de barras usando una libreria de Python. Se toman los datos\n",
    "del modulo anterior para crear la grafica. En este caso son acumulados a la fecha.\n",
    "\n",
    "Nota: Este ejercicio solo es para mostrar una forma de graficar usando Python y sus liberias"
   ]
  },
  {
   "cell_type": "code",
   "execution_count": 1,
   "metadata": {},
   "outputs": [],
   "source": [
    "import pandas as pd\n",
    "import matplotlib.pyplot as plt\n",
    "from matplotlib.animation import FuncAnimation\n",
    "from IPython.display import HTML\n",
    "import bar_chart_race as bcr"
   ]
  },
  {
   "cell_type": "code",
   "execution_count": 2,
   "metadata": {},
   "outputs": [],
   "source": [
    "var = 'FECHA_SINTOMAS'\n",
    "df = pd.read_csv('./data/porentidad.csv', index_col=var, parse_dates=[var],encoding='utf-8')"
   ]
  },
  {
   "cell_type": "code",
   "execution_count": null,
   "metadata": {
    "scrolled": false
   },
   "outputs": [],
   "source": [
    "#This step uses the \"bar_chart_race\" library available. \n",
    "#https://github.com/dexplo/bar_chart_race\n",
    "tit = 'COVID-19 MEX: Fecha de deteccion de sintomas'\n",
    "\n",
    "#Uncomment this 3 lines if you want to save the video to your disk or use the righ button to save\n",
    "#html = bcr.bar_chart_race(df, './data/covidmex.mp4', figsize=(5, 4), title=tit,bar_label_size=7, n_bars=15,\n",
    "#                         period_length=1200, steps_per_period=15, tick_label_size=5,\n",
    "#                         cmap='tab20c')\n",
    "\n",
    "html = bcr.bar_chart_race(df, figsize=(5, 4), title=tit,bar_label_size=7, n_bars=15,\n",
    "                         period_length=1800, steps_per_period=15, tick_label_size=5,\n",
    "                         cmap='tab20c')\n",
    "\n",
    "HTML(html)\n",
    "#Below is the bar chart race. If you want to stop it, just unselect \"Loop\" using the mouse right button\n",
    "# over the image, and then unselect it from the menu."
   ]
  },
  {
   "cell_type": "code",
   "execution_count": 4,
   "metadata": {},
   "outputs": [
    {
     "name": "stdout",
     "output_type": "stream",
     "text": [
      "Module #03 finished\n"
     ]
    }
   ],
   "source": [
    "print('Module #03 finished')"
   ]
  }
 ],
 "metadata": {
  "kernelspec": {
   "display_name": "Python 3",
   "language": "python",
   "name": "python3"
  },
  "language_info": {
   "codemirror_mode": {
    "name": "ipython",
    "version": 3
   },
   "file_extension": ".py",
   "mimetype": "text/x-python",
   "name": "python",
   "nbconvert_exporter": "python",
   "pygments_lexer": "ipython3",
   "version": "3.7.3"
  }
 },
 "nbformat": 4,
 "nbformat_minor": 2
}
