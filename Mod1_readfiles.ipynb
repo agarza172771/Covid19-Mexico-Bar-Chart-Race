{
 "cells": [
  {
   "cell_type": "markdown",
   "metadata": {},
   "source": [
    "### Module 1: Read data from web\n",
    "\n",
    "This module is used to download and unzip the files from Secretaria de Salud, \n",
    "related to the Covid-19 virus in Mexico. The file also is used to show \n",
    "\n",
    "\n",
    "This module is used to download and decompress the files of the Secretaria de Salud \n",
    "related to the Covid-19 virus in Mexico. In the open data set, there are all cases. \n",
    "Each line represents a case and its situation. Below the page is a catalog and the \n",
    "meaning of each field.\n",
    "\n",
    "Este modulo se usa para descargar y descomprimir los archivos de la Secretaria de Salud\n",
    "relacionados al virus Covid-19 en Mexico. En el archivo de los datos abiertos,\n",
    "estan todos los casos. Cada linea representa un caso y su situacion. Mas abajo de la \n",
    "pagina se encuentra un catalogo y el significado de cada campo.\n",
    "\n",
    "\n",
    "Dataset pagep publish by Secretaria de Salud:\n",
    "https://datos.gob.mx/busca/dataset/informacion-referente-a-casos-covid-19-en-mexico\n"
   ]
  },
  {
   "cell_type": "code",
   "execution_count": 1,
   "metadata": {},
   "outputs": [],
   "source": [
    "from io import BytesIO\n",
    "from urllib.request import urlopen\n",
    "from zipfile import ZipFile"
   ]
  },
  {
   "cell_type": "code",
   "execution_count": 2,
   "metadata": {},
   "outputs": [],
   "source": [
    "#This step delete all the old files in the path selected\n",
    "!rm -r ./data/*"
   ]
  },
  {
   "cell_type": "code",
   "execution_count": 3,
   "metadata": {},
   "outputs": [],
   "source": [
    "data = 'http://187.191.75.115/gobmx/salud/datos_abiertos/datos_abiertos_covid19.zip'\n",
    "dicc = 'http://187.191.75.115/gobmx/salud/datos_abiertos/diccionario_datos_covid19.zip'"
   ]
  },
  {
   "cell_type": "code",
   "execution_count": 4,
   "metadata": {},
   "outputs": [],
   "source": [
    "def unzipfile(data):\n",
    "    zip = data\n",
    "    with urlopen(zip) as zip_resp:\n",
    "        with ZipFile(BytesIO(zip_resp.read())) as file:\n",
    "            file.extractall('./data/')"
   ]
  },
  {
   "cell_type": "code",
   "execution_count": 5,
   "metadata": {},
   "outputs": [],
   "source": [
    "#Read the Mexico covid data and unzip it\n",
    "unzipfile(data)"
   ]
  },
  {
   "cell_type": "code",
   "execution_count": 6,
   "metadata": {},
   "outputs": [],
   "source": [
    "#Read dictionary (information related to each field in the data)\n",
    "unzipfile(dicc)"
   ]
  },
  {
   "cell_type": "code",
   "execution_count": 7,
   "metadata": {},
   "outputs": [
    {
     "name": "stdout",
     "output_type": "stream",
     "text": [
      "Module #01 finished\n"
     ]
    }
   ],
   "source": [
    "print('Module #01 finished')"
   ]
  },
  {
   "cell_type": "code",
   "execution_count": null,
   "metadata": {},
   "outputs": [],
   "source": []
  }
 ],
 "metadata": {
  "kernelspec": {
   "display_name": "Python 3",
   "language": "python",
   "name": "python3"
  },
  "language_info": {
   "codemirror_mode": {
    "name": "ipython",
    "version": 3
   },
   "file_extension": ".py",
   "mimetype": "text/x-python",
   "name": "python",
   "nbconvert_exporter": "python",
   "pygments_lexer": "ipython3",
   "version": "3.7.3"
  }
 },
 "nbformat": 4,
 "nbformat_minor": 2
}
